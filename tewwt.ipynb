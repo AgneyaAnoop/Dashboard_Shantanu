{
 "cells": [
  {
   "cell_type": "code",
   "execution_count": 1,
   "metadata": {},
   "outputs": [
    {
     "ename": "ImportError",
     "evalue": "cannot import name 'PandasAI' from 'pandasai' (/Users/jashvinuyeshwanth/.pyenv/versions/3.11.7/lib/python3.11/site-packages/pandasai/__init__.py)",
     "output_type": "error",
     "traceback": [
      "\u001b[0;31m---------------------------------------------------------------------------\u001b[0m",
      "\u001b[0;31mImportError\u001b[0m                               Traceback (most recent call last)",
      "Cell \u001b[0;32mIn[1], line 2\u001b[0m\n\u001b[1;32m      1\u001b[0m \u001b[38;5;28;01mimport\u001b[39;00m \u001b[38;5;21;01mpandas\u001b[39;00m \u001b[38;5;28;01mas\u001b[39;00m \u001b[38;5;21;01mpd\u001b[39;00m\n\u001b[0;32m----> 2\u001b[0m \u001b[38;5;28;01mfrom\u001b[39;00m \u001b[38;5;21;01mpandasai\u001b[39;00m \u001b[38;5;28;01mimport\u001b[39;00m PandasAI\n\u001b[1;32m      4\u001b[0m \u001b[38;5;66;03m# Sample DataFrame\u001b[39;00m\n\u001b[1;32m      5\u001b[0m df \u001b[38;5;241m=\u001b[39m pd\u001b[38;5;241m.\u001b[39mDataFrame({\n\u001b[1;32m      6\u001b[0m     \u001b[38;5;124m\"\u001b[39m\u001b[38;5;124mcountry\u001b[39m\u001b[38;5;124m\"\u001b[39m: [\u001b[38;5;124m\"\u001b[39m\u001b[38;5;124mUnited States\u001b[39m\u001b[38;5;124m\"\u001b[39m, \u001b[38;5;124m\"\u001b[39m\u001b[38;5;124mUnited Kingdom\u001b[39m\u001b[38;5;124m\"\u001b[39m, \u001b[38;5;124m\"\u001b[39m\u001b[38;5;124mFrance\u001b[39m\u001b[38;5;124m\"\u001b[39m, \u001b[38;5;124m\"\u001b[39m\u001b[38;5;124mGermany\u001b[39m\u001b[38;5;124m\"\u001b[39m, \u001b[38;5;124m\"\u001b[39m\u001b[38;5;124mItaly\u001b[39m\u001b[38;5;124m\"\u001b[39m, \u001b[38;5;124m\"\u001b[39m\u001b[38;5;124mSpain\u001b[39m\u001b[38;5;124m\"\u001b[39m, \u001b[38;5;124m\"\u001b[39m\u001b[38;5;124mCanada\u001b[39m\u001b[38;5;124m\"\u001b[39m, \u001b[38;5;124m\"\u001b[39m\u001b[38;5;124mAustralia\u001b[39m\u001b[38;5;124m\"\u001b[39m, \u001b[38;5;124m\"\u001b[39m\u001b[38;5;124mJapan\u001b[39m\u001b[38;5;124m\"\u001b[39m, \u001b[38;5;124m\"\u001b[39m\u001b[38;5;124mChina\u001b[39m\u001b[38;5;124m\"\u001b[39m],\n\u001b[1;32m      7\u001b[0m     \u001b[38;5;124m\"\u001b[39m\u001b[38;5;124mgdp\u001b[39m\u001b[38;5;124m\"\u001b[39m: [\u001b[38;5;241m19294482071552\u001b[39m, \u001b[38;5;241m2891615567872\u001b[39m, \u001b[38;5;241m2411255037952\u001b[39m, \u001b[38;5;241m3435817336832\u001b[39m, \u001b[38;5;241m1745433788416\u001b[39m, \u001b[38;5;241m1181205135360\u001b[39m, \u001b[38;5;241m1607402389504\u001b[39m, \u001b[38;5;241m1490967855104\u001b[39m, \u001b[38;5;241m4380756541440\u001b[39m, \u001b[38;5;241m14631844184064\u001b[39m],\n\u001b[1;32m      8\u001b[0m     \u001b[38;5;124m\"\u001b[39m\u001b[38;5;124mhappiness_index\u001b[39m\u001b[38;5;124m\"\u001b[39m: [\u001b[38;5;241m6.94\u001b[39m, \u001b[38;5;241m7.16\u001b[39m, \u001b[38;5;241m6.66\u001b[39m, \u001b[38;5;241m7.07\u001b[39m, \u001b[38;5;241m6.38\u001b[39m, \u001b[38;5;241m6.4\u001b[39m, \u001b[38;5;241m7.23\u001b[39m, \u001b[38;5;241m7.22\u001b[39m, \u001b[38;5;241m5.87\u001b[39m, \u001b[38;5;241m5.12\u001b[39m]\n\u001b[1;32m      9\u001b[0m })\n",
      "\u001b[0;31mImportError\u001b[0m: cannot import name 'PandasAI' from 'pandasai' (/Users/jashvinuyeshwanth/.pyenv/versions/3.11.7/lib/python3.11/site-packages/pandasai/__init__.py)"
     ]
    }
   ],
   "source": [
    "import pandas as pd\n",
    "from pandasai import PandasAI\n",
    "\n",
    "# Sample DataFrame\n",
    "df = pd.DataFrame({\n",
    "    \"country\": [\"United States\", \"United Kingdom\", \"France\", \"Germany\", \"Italy\", \"Spain\", \"Canada\", \"Australia\", \"Japan\", \"China\"],\n",
    "    \"gdp\": [19294482071552, 2891615567872, 2411255037952, 3435817336832, 1745433788416, 1181205135360, 1607402389504, 1490967855104, 4380756541440, 14631844184064],\n",
    "    \"happiness_index\": [6.94, 7.16, 6.66, 7.07, 6.38, 6.4, 7.23, 7.22, 5.87, 5.12]\n",
    "})\n",
    "\n",
    "# Instantiate a LLM\n",
    "from pandasai.llm.openai import OpenAI\n",
    "llm = OpenAI(api_token=\"YOUR_API_TOKEN\")\n",
    "\n",
    "pandas_ai = PandasAI(llm, conversational=False)\n",
    "pandas_ai.run(df, prompt='Which are the 5 happiest countries?')"
   ]
  }
 ],
 "metadata": {
  "kernelspec": {
   "display_name": "Python 3",
   "language": "python",
   "name": "python3"
  },
  "language_info": {
   "codemirror_mode": {
    "name": "ipython",
    "version": 3
   },
   "file_extension": ".py",
   "mimetype": "text/x-python",
   "name": "python",
   "nbconvert_exporter": "python",
   "pygments_lexer": "ipython3",
   "version": "3.11.7"
  }
 },
 "nbformat": 4,
 "nbformat_minor": 2
}
